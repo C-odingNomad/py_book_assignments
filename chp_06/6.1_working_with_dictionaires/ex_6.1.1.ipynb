{
 "cells": [
  {
   "cell_type": "markdown",
   "metadata": {},
   "source": [
    "### Person: \n",
    "Use a dictionary to store information about a person you know. Store their first name, last name, age, and the city in which they live. You should have keys such as \"first_name\", \"last_name\", \"age\", and \"city\". Print each piece of information stored in your dictionary."
   ]
  },
  {
   "cell_type": "code",
   "execution_count": 10,
   "metadata": {},
   "outputs": [
    {
     "name": "stdout",
     "output_type": "stream",
     "text": [
      "First name is: Abdur\n",
      "Last name is: Rehman\n",
      "Live in: Karachi\n"
     ]
    }
   ],
   "source": [
    "my_friend : dict[str] = {\n",
    "    \"first_name\" : \"Abdur\", \n",
    "    \"last_name\" : \"Rehman\", \n",
    "    \"city\" : \"Karachi\",\n",
    "    }\n",
    "print(f\"First name is: {my_friend[\"first_name\"]}\")\n",
    "print(f\"Last name is: {my_friend[\"last_name\"]}\")\n",
    "print(f\"Live in: {my_friend[\"city\"]}\")"
   ]
  }
 ],
 "metadata": {
  "kernelspec": {
   "display_name": "py12",
   "language": "python",
   "name": "python3"
  },
  "language_info": {
   "codemirror_mode": {
    "name": "ipython",
    "version": 3
   },
   "file_extension": ".py",
   "mimetype": "text/x-python",
   "name": "python",
   "nbconvert_exporter": "python",
   "pygments_lexer": "ipython3",
   "version": "3.12.0"
  }
 },
 "nbformat": 4,
 "nbformat_minor": 2
}
