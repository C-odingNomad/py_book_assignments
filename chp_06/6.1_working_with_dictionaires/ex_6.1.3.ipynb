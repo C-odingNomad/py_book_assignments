{
 "cells": [
  {
   "cell_type": "markdown",
   "metadata": {},
   "source": [
    "### Glossary: \n",
    "A Python dictionary can be used to model an actual dictionary. However, to avoid confusion, let’s call it a glossary:\n",
    "- Think of five programming words you’ve learned about in the previous chapters. Use these words as the keys in your glossary, and store their meanings as values.\n",
    "- Print each word and its meaning as neatly formatted output. You might print the word followed by a colon and then its meaning, or print the word on one line and then print its meaning indented on a second line. Use the newline character \"\\n\" to insert a blank line between each word-meaning \n",
    "pair in your output."
   ]
  },
  {
   "cell_type": "code",
   "execution_count": 9,
   "metadata": {},
   "outputs": [
    {
     "name": "stdout",
     "output_type": "stream",
     "text": [
      "Few programming words along with their meanings are following: \n",
      "\n",
      "del = used to delete items from a list or a dictionary\n",
      "None = represents the absence of a value or a null value\n",
      "True = result of comparison operations or logical operations\n",
      "False = result of comparison operations or logical operations\n",
      "if = used for conditional branching or decision making\n"
     ]
    }
   ],
   "source": [
    "programming_words : dict[str] = {\n",
    "    \"del\" : \"used to delete items from a list or a dictionary\",\n",
    "    \"None\" : \"represents the absence of a value or a null value\", \n",
    "    \"True\" : \"result of comparison operations or logical operations\",\n",
    "    \"False\" : \"result of comparison operations or logical operations\",\n",
    "    \"if\" : \"used for conditional branching or decision making\",\n",
    "    }\n",
    "print(\"Few programming words along with their meanings are following: \\n\")\n",
    "print(f\"del = {programming_words[\"del\"]}\")\n",
    "print(f\"None = {programming_words[\"None\"]}\")\n",
    "print(f\"True = {programming_words[\"True\"]}\")\n",
    "print(f\"False = {programming_words[\"False\"]}\")\n",
    "print(f\"if = {programming_words[\"if\"]}\")"
   ]
  }
 ],
 "metadata": {
  "kernelspec": {
   "display_name": "py12",
   "language": "python",
   "name": "python3"
  },
  "language_info": {
   "codemirror_mode": {
    "name": "ipython",
    "version": 3
   },
   "file_extension": ".py",
   "mimetype": "text/x-python",
   "name": "python",
   "nbconvert_exporter": "python",
   "pygments_lexer": "ipython3",
   "version": "3.12.0"
  }
 },
 "nbformat": 4,
 "nbformat_minor": 2
}
