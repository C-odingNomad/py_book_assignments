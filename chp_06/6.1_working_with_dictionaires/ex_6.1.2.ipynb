{
 "cells": [
  {
   "cell_type": "markdown",
   "metadata": {},
   "source": [
    "### Favorite Numbers: \n",
    "Use a dictionary to store people’s favorite numbers. \n",
    "Think of five names, and use them as keys in your dictionary. Think of a favorite number for each person, and store each as a value in your dictionary. \n",
    "\n",
    "Print each person’s name and their favorite number. For even more fun, poll a few friends and get some actual data for your program."
   ]
  },
  {
   "cell_type": "code",
   "execution_count": 20,
   "metadata": {},
   "outputs": [
    {
     "name": "stdout",
     "output_type": "stream",
     "text": [
      "Ali, 7 \n",
      "Ibad, 5\n",
      "Hassan, 12\n",
      "Khurram, 10\n",
      "Raza, 14\n",
      "\n",
      "Ali's favorite number is: 7\n",
      "Raza's favorite number is: 14\n"
     ]
    }
   ],
   "source": [
    "people_favorite_numbers : dict[str, int] = {\n",
    "    \"Ali\" : 7,\n",
    "    \"Ibad\" : 5,\n",
    "    \"Hassan\" : 12,\n",
    "    \"Khurram\" : 10,\n",
    "    # In the book adding comma after the last value mentioned as a good practice\n",
    "    \"Raza\" : 14, \n",
    "    }\n",
    "print(f\"Ali, {people_favorite_numbers['Ali']} \")\n",
    "print(f\"Ibad, {people_favorite_numbers['Ibad']}\")\n",
    "print(f\"Hassan, {people_favorite_numbers['Hassan']}\")\n",
    "print(f\"Khurram, {people_favorite_numbers['Khurram']}\")\n",
    "print(f\"Raza, {people_favorite_numbers['Raza']}\")\n",
    "\n",
    "ali_num : int = people_favorite_numbers[\"Ali\"]\n",
    "print(f\"\\nAli's favorite number is: {ali_num}\")\n",
    "\n",
    "raza_num : int = people_favorite_numbers[\"Raza\"]\n",
    "print(f\"Raza's favorite number is: {raza_num}\")\n"
   ]
  }
 ],
 "metadata": {
  "kernelspec": {
   "display_name": "py12",
   "language": "python",
   "name": "python3"
  },
  "language_info": {
   "codemirror_mode": {
    "name": "ipython",
    "version": 3
   },
   "file_extension": ".py",
   "mimetype": "text/x-python",
   "name": "python",
   "nbconvert_exporter": "python",
   "pygments_lexer": "ipython3",
   "version": "3.12.0"
  }
 },
 "nbformat": 4,
 "nbformat_minor": 2
}
