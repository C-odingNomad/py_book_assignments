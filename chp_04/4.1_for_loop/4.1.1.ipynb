{
 "cells": [
  {
   "cell_type": "markdown",
   "metadata": {},
   "source": [
    "### Pizzas: \n",
    "Think of at least three kinds of your favorite pizza. Store these \n",
    "pizza names in a list, and then use a for loop to print the name of each pizza.\n",
    "- Modify your for loop to print a sentence using the name of the pizza, \n",
    "instead of printing just the name of the pizza. For each pizza, you should \n",
    "have one line of output containing a simple statement like I like pepperoni pizza.\n",
    "- Add a line at the end of your program, outside the for loop, that states \n",
    "how much you like pizza. The output should consist of three or more lines \n",
    "about the kinds of pizza you like and then an additional sentence, such as \n",
    "I really love pizza!"
   ]
  },
  {
   "cell_type": "code",
   "execution_count": 7,
   "metadata": {},
   "outputs": [
    {
     "name": "stdout",
     "output_type": "stream",
     "text": [
      "I like pepperoni pizza.\n",
      "I like margherita pizza.\n",
      "I like fagita pizza.\n",
      "I like hawaiian pizza.\n",
      "\n",
      "I really love eating pizzas. :)\n"
     ]
    }
   ],
   "source": [
    "favorite_pizza_flavors : list[str] = [\"pepperoni\", \"margherita\", \"fagita\", \"hawaiian\"]\n",
    "for pizza in favorite_pizza_flavors:\n",
    "    print(f\"I like {pizza} pizza.\")\n",
    "\n",
    "print(\"\\nI really love eating pizzas. :)\")"
   ]
  }
 ],
 "metadata": {
  "kernelspec": {
   "display_name": "py12",
   "language": "python",
   "name": "python3"
  },
  "language_info": {
   "codemirror_mode": {
    "name": "ipython",
    "version": 3
   },
   "file_extension": ".py",
   "mimetype": "text/x-python",
   "name": "python",
   "nbconvert_exporter": "python",
   "pygments_lexer": "ipython3",
   "version": "3.12.0"
  }
 },
 "nbformat": 4,
 "nbformat_minor": 2
}
