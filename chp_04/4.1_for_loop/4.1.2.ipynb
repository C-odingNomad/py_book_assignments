{
 "cells": [
  {
   "cell_type": "markdown",
   "metadata": {},
   "source": [
    "### Animals: \n",
    "Think of at least three different animals that have a common characteristic. Store the names of these animals in a list, and then use a for loop to \n",
    "print out the name of each animal.\n",
    "- Modify your program to print a statement about each animal, such as A \n",
    "dog would make a great pet.\n",
    "- Add a line at the end of your program, stating what these animals have in \n",
    "common. You could print a sentence, such as Any of these animals would \n",
    "make a great pet!"
   ]
  },
  {
   "cell_type": "code",
   "execution_count": 3,
   "metadata": {},
   "outputs": [
    {
     "name": "stdout",
     "output_type": "stream",
     "text": [
      "lion is a dangerous animal.\n",
      "tiger is a dangerous animal.\n",
      "cheeta is a dangerous animal.\n",
      "\n",
      "All of them runs very fast.\n"
     ]
    }
   ],
   "source": [
    "animals_list : list[str] = [\"lion\", \"tiger\", \"cheeta\"]\n",
    "for animal in animals_list:\n",
    "    print(f\"{animal} is a dangerous animal.\")\n",
    "\n",
    "print(\"\\nAll of them runs very fast.\")"
   ]
  }
 ],
 "metadata": {
  "kernelspec": {
   "display_name": "py12",
   "language": "python",
   "name": "python3"
  },
  "language_info": {
   "codemirror_mode": {
    "name": "ipython",
    "version": 3
   },
   "file_extension": ".py",
   "mimetype": "text/x-python",
   "name": "python",
   "nbconvert_exporter": "python",
   "pygments_lexer": "ipython3",
   "version": "3.12.0"
  }
 },
 "nbformat": 4,
 "nbformat_minor": 2
}
