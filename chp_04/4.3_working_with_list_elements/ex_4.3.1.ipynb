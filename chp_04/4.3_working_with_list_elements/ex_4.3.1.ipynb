{
 "cells": [
  {
   "cell_type": "markdown",
   "metadata": {},
   "source": [
    "### Slices: \n",
    "Using one of the programs you wrote in this chapter, add several \n",
    "lines to the end of the program that do the following:\n",
    "- Print the message The first three items in the list are:. Then use a slice to \n",
    "print the first three items from that program’s list.\n",
    "- Print the message Three items from the middle of the list are:. Then use a \n",
    "slice to print three items from the middle of the list.\n",
    "- Print the message The last three items in the list are:. Then use a slice to \n",
    "print the last three items in the list."
   ]
  },
  {
   "cell_type": "code",
   "execution_count": 1,
   "metadata": {},
   "outputs": [
    {
     "name": "stdout",
     "output_type": "stream",
     "text": [
      "[1, 8, 27, 64, 125, 216, 343, 512, 729, 1000]\n",
      "\n",
      "The first three items in the list are:\n",
      "[1, 8, 27]\n",
      "\n",
      "Three items from the middle of the list are:\n",
      "[64, 125, 216]\n",
      "\n",
      "The last three items in the list are:\n",
      "[512, 729, 1000]\n"
     ]
    }
   ],
   "source": [
    "# From previous exercise (ex 4.2.7)\n",
    "cubes : list[int] = [number**3 for number in range(1, 11)]\n",
    "print(cubes)\n",
    "\n",
    "print(\"\\nThe first three items in the list are:\")\n",
    "print(cubes[0:3])\n",
    "print(\"\\nThree items from the middle of the list are:\")\n",
    "print(cubes[3:6])\n",
    "print(\"\\nThe last three items in the list are:\")\n",
    "print(cubes[-3:])"
   ]
  }
 ],
 "metadata": {
  "kernelspec": {
   "display_name": "py12",
   "language": "python",
   "name": "python3"
  },
  "language_info": {
   "codemirror_mode": {
    "name": "ipython",
    "version": 3
   },
   "file_extension": ".py",
   "mimetype": "text/x-python",
   "name": "python",
   "nbconvert_exporter": "python",
   "pygments_lexer": "ipython3",
   "version": "3.12.0"
  }
 },
 "nbformat": 4,
 "nbformat_minor": 2
}
