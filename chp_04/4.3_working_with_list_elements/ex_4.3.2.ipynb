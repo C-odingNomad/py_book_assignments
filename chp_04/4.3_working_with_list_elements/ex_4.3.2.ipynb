{
 "cells": [
  {
   "cell_type": "markdown",
   "metadata": {},
   "source": [
    "### My Pizzas, Your Pizzas: \n",
    "Start with your program from Exercise 4.1.1. Make a copy of the list of pizzas, and call it friend_pizzas. Then, do the following:\n",
    "- Add a new pizza to the original list.\n",
    "- Add a different pizza to the list friend_pizzas.\n",
    "- Prove that you have two separate lists. Print the message My favorite pizzas are:, and then use a for loop to print the first list. Print the message My friend’s favorite pizzas are:, and then use a for loop to print the second list. Make sure each new pizza is stored in the appropriate list."
   ]
  },
  {
   "cell_type": "code",
   "execution_count": 1,
   "metadata": {},
   "outputs": [
    {
     "name": "stdout",
     "output_type": "stream",
     "text": [
      "['pepperoni', 'margherita', 'fagita', 'hawaiian']\n",
      "I like pepperoni pizza.\n",
      "I like margherita pizza.\n",
      "I like fagita pizza.\n",
      "I like hawaiian pizza.\n",
      "\n",
      "I really love eating pizzas. :) \n",
      "\n",
      "My Favorite Pizzas are: \n",
      "pepperoni\n",
      "margherita\n",
      "fagita\n",
      "hawaiian\n",
      "chicken cheese\n",
      "\n",
      "My friend’s favorite pizzas are:\n",
      "pepperoni\n",
      "margherita\n",
      "fagita\n",
      "hawaiian\n",
      "creamy\n"
     ]
    }
   ],
   "source": [
    "# Starting with my old program (ex 4.1.1)\n",
    "\n",
    "# just changed the 1st list's name to associate it with me\n",
    "my_fav_pizzas : list[str] = [\"pepperoni\", \"margherita\", \"fagita\", \"hawaiian\"]\n",
    "print(my_fav_pizzas)\n",
    "for pizza in my_fav_pizzas:\n",
    "    print(f\"I like {pizza} pizza.\")\n",
    "\n",
    "print(\"\\nI really love eating pizzas. :) \\n\")\n",
    "\n",
    "# Starting current program:\n",
    "friend_pizzas : list[str] = my_fav_pizzas[:]\n",
    "\n",
    "# Adding new elements in both of the lists:\n",
    "my_fav_pizzas.append(\"chicken cheese\")\n",
    "friend_pizzas.append(\"creamy\")\n",
    "\n",
    "# Making sure that both list's elements are slightly different:\n",
    "print(\"My Favorite Pizzas are: \")\n",
    "for pizza in my_fav_pizzas:\n",
    "    print(pizza)\n",
    "\n",
    "print(\"\\nMy friend’s favorite pizzas are:\")\n",
    "for pizza in friend_pizzas:\n",
    "    print(pizza)"
   ]
  }
 ],
 "metadata": {
  "kernelspec": {
   "display_name": "py12",
   "language": "python",
   "name": "python3"
  },
  "language_info": {
   "codemirror_mode": {
    "name": "ipython",
    "version": 3
   },
   "file_extension": ".py",
   "mimetype": "text/x-python",
   "name": "python",
   "nbconvert_exporter": "python",
   "pygments_lexer": "ipython3",
   "version": "3.12.0"
  }
 },
 "nbformat": 4,
 "nbformat_minor": 2
}
