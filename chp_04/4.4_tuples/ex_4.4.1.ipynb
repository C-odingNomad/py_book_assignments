{
 "cells": [
  {
   "cell_type": "markdown",
   "metadata": {},
   "source": [
    "### Buffet: \n",
    "A buffet-style restaurant offers only five basic foods. Think of five \n",
    "simple foods, and store them in a tuple.\n",
    "- Use a for loop to print each food the restaurant offers.\n",
    "- Try to modify one of the items, and make sure that Python rejects the \n",
    "change.\n",
    "- The restaurant changes its menu, replacing two of the items with different \n",
    "foods. Add a line that rewrites the tuple, and then use a for loop to print \n",
    "each of the items on the revised menu.\n"
   ]
  },
  {
   "cell_type": "code",
   "execution_count": 1,
   "metadata": {},
   "outputs": [
    {
     "name": "stdout",
     "output_type": "stream",
     "text": [
      "The restaurant offers these foods: \n",
      "biryani\n",
      "pulao\n",
      "haleem\n",
      "nihari\n",
      "qurma\n",
      "\n",
      "The restaurant changed few items, now they're offering: \n",
      "chicken soup\n",
      "pulao\n",
      "haleem\n",
      "yakhni\n",
      "qurma\n"
     ]
    }
   ],
   "source": [
    "foods: tuple[str] = (\"biryani\", \"pulao\", \"haleem\", \"nihari\", \"qurma\")\n",
    "print(\"The restaurant offers these foods: \")\n",
    "for food in foods:\n",
    "    print(food)\n",
    "\n",
    "# foods[1] = (\"halwa puri\") # Python rejects this change in tuple's value\n",
    "\n",
    "# rewriting the tuple\n",
    "foods: tuple[str] = (\"chicken soup\", \"pulao\", \"haleem\", \"yakhni\", \"qurma\")\n",
    "print(\"\\nThe restaurant changed few items, now they're offering: \")\n",
    "for food in foods:\n",
    "    print(food)"
   ]
  }
 ],
 "metadata": {
  "kernelspec": {
   "display_name": "py12",
   "language": "python",
   "name": "python3"
  },
  "language_info": {
   "codemirror_mode": {
    "name": "ipython",
    "version": 3
   },
   "file_extension": ".py",
   "mimetype": "text/x-python",
   "name": "python",
   "nbconvert_exporter": "python",
   "pygments_lexer": "ipython3",
   "version": "3.12.0"
  }
 },
 "nbformat": 4,
 "nbformat_minor": 2
}
