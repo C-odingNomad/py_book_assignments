{
 "cells": [
  {
   "cell_type": "markdown",
   "metadata": {},
   "source": [
    "### Summing a Million: \n",
    "Make a list of the numbers from one to one million, and \n",
    "then use min() and max() to make sure your list actually starts at one and ends \n",
    "at one million. Also, use the sum() function to see how quickly Python can add \n",
    "a million numbers."
   ]
  },
  {
   "cell_type": "code",
   "execution_count": 5,
   "metadata": {},
   "outputs": [
    {
     "name": "stdout",
     "output_type": "stream",
     "text": [
      "1\n",
      "1000000\n",
      "500000500000\n"
     ]
    }
   ],
   "source": [
    "one_million_numbers : list[int] = range(1,1000001)\n",
    "\n",
    "print(min(one_million_numbers))\n",
    "print(max(one_million_numbers))\n",
    "print(sum(one_million_numbers)) # Python took only 0.2s"
   ]
  }
 ],
 "metadata": {
  "kernelspec": {
   "display_name": "py12",
   "language": "python",
   "name": "python3"
  },
  "language_info": {
   "codemirror_mode": {
    "name": "ipython",
    "version": 3
   },
   "file_extension": ".py",
   "mimetype": "text/x-python",
   "name": "python",
   "nbconvert_exporter": "python",
   "pygments_lexer": "ipython3",
   "version": "3.12.0"
  }
 },
 "nbformat": 4,
 "nbformat_minor": 2
}
