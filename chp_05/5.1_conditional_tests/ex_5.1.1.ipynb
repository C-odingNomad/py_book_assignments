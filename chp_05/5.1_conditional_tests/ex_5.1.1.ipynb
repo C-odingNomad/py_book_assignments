{
 "cells": [
  {
   "cell_type": "markdown",
   "metadata": {},
   "source": [
    "### Conditional Tests: \n",
    "Write a series of conditional tests. Print a statement describing each test and your prediction for the results of each test. Your code should look something like this:\n",
    "\n",
    "1. car = 'subaru'\n",
    "2. print(\"Is car == 'subaru'? I predict True.\")\n",
    "3. print(car == 'subaru')\n",
    "4. print(\"\\nIs car == 'audi'? I predict False.\")\n",
    "5. print(car == 'audi')\n",
    "\n",
    "- Look closely at your results, and make sure you understand why each line evaluates to True or False.\n",
    "- Create at least 10 tests. Have at least 5 tests evaluate to True and another 5 tests evaluate to False"
   ]
  },
  {
   "cell_type": "code",
   "execution_count": 1,
   "metadata": {},
   "outputs": [
    {
     "name": "stdout",
     "output_type": "stream",
     "text": [
      "Is bike == 'honda'? I predict True.\n",
      "True\n",
      "Is bike == 'super power'? I predict False.\n",
      "False\n",
      "\n",
      "Is pizza_flavor == 'fagita'? I predict True.\n",
      "True\n",
      "Is pizza_flavor == 'bbq'? I predict False.\n",
      "False\n",
      "\n",
      "Is hobby == 'gardening'? I predict False.\n",
      "False\n",
      "Is hobby == 'painting'? I predict True.\n",
      "True\n",
      "\n",
      "Is fav_color == 'black'? I predict True.\n",
      "True\n",
      "Is fav_color == 'yellow'? I predict False.\n",
      "False\n",
      "\n",
      "Is fav_dish == 'nihari'? I predict False.\n",
      "False\n",
      "Is fav_dish == 'biryani'? I predict True.\n",
      "True\n"
     ]
    }
   ],
   "source": [
    "bike = 'honda'\n",
    "print(\"Is bike == 'honda'? I predict True.\")\n",
    "print(bike == 'honda')\n",
    "print(\"Is bike == 'super power'? I predict False.\")\n",
    "print(bike == 'super power')\n",
    "\n",
    "pizza_flavor = 'fagita'\n",
    "print(\"\\nIs pizza_flavor == 'fagita'? I predict True.\")\n",
    "print(pizza_flavor == 'fagita')\n",
    "print(\"Is pizza_flavor == 'bbq'? I predict False.\")\n",
    "print(pizza_flavor == 'bbq')\n",
    "\n",
    "hobby = 'painting'\n",
    "print(\"\\nIs hobby == 'gardening'? I predict False.\")\n",
    "print(hobby == 'gardening')\n",
    "print(\"Is hobby == 'painting'? I predict True.\")\n",
    "print(hobby == 'painting')\n",
    "\n",
    "fav_color = 'black'\n",
    "print(\"\\nIs fav_color == 'black'? I predict True.\")\n",
    "print(fav_color == 'black')\n",
    "print(\"Is fav_color == 'yellow'? I predict False.\")\n",
    "print(fav_color == 'yellow')\n",
    "\n",
    "fav_dish = 'biryani'\n",
    "print(\"\\nIs fav_dish == 'nihari'? I predict False.\")\n",
    "print(fav_dish == 'nihari')\n",
    "print(\"Is fav_dish == 'biryani'? I predict True.\")\n",
    "print(fav_dish == 'biryani')\n"
   ]
  }
 ],
 "metadata": {
  "kernelspec": {
   "display_name": "py12",
   "language": "python",
   "name": "python3"
  },
  "language_info": {
   "codemirror_mode": {
    "name": "ipython",
    "version": 3
   },
   "file_extension": ".py",
   "mimetype": "text/x-python",
   "name": "python",
   "nbconvert_exporter": "python",
   "pygments_lexer": "ipython3",
   "version": "3.12.0"
  }
 },
 "nbformat": 4,
 "nbformat_minor": 2
}
