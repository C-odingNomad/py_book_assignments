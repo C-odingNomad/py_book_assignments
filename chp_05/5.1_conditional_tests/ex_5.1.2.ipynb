{
 "cells": [
  {
   "cell_type": "markdown",
   "metadata": {},
   "source": [
    "### More Conditional: \n",
    "Have at least one True and one False result for each of the following:\n",
    "1. Tests for equality and inequality with strings\n",
    "2. Tests using the lower() method\n",
    "3. Numerical tests involving equality and inequality, greater than and less \n",
    "than, greater than or equal to, and less than or equal to\n",
    "4. Tests using the 'and' keyword and the 'or' keyword\n",
    "5. Test whether an item is in a list\n",
    "6. Test whether an item is not in a list"
   ]
  },
  {
   "cell_type": "code",
   "execution_count": 7,
   "metadata": {},
   "outputs": [
    {
     "name": "stdout",
     "output_type": "stream",
     "text": [
      "Tests for equality: \n",
      "True\n",
      "False\n",
      "\n",
      "Tests for inequality: \n",
      "False\n",
      "True\n"
     ]
    }
   ],
   "source": [
    "# 1. Tests for Equality & Inequality\n",
    "food: str = \"biryani\"\n",
    "\n",
    "print(\"Tests for equality: \")\n",
    "print(food == \"biryani\")\n",
    "print(food == \"korma\")\n",
    "\n",
    "print(\"\\nTests for inequality: \")\n",
    "print(food != \"biryani\")\n",
    "print(food != \"nihari\")"
   ]
  },
  {
   "cell_type": "code",
   "execution_count": 8,
   "metadata": {},
   "outputs": [
    {
     "name": "stdout",
     "output_type": "stream",
     "text": [
      "Tests for equality: \n",
      "False\n",
      "True\n",
      "\n",
      "Tests for inequality: \n",
      "True\n",
      "False\n"
     ]
    }
   ],
   "source": [
    "# 2. Tests with lower() method\n",
    "fav_place: str = \"Burj Khalifa\"\n",
    "\n",
    "print(\"Tests for equality: \")\n",
    "print(fav_place == \"burj Khalifa\")\n",
    "print(fav_place.lower() == \"burj khalifa\")\n",
    "\n",
    "print(\"\\nTests for inequality: \")\n",
    "print(fav_place != \"burj Khalifa\")\n",
    "print(fav_place.lower() != \"burj khalifa\")\n"
   ]
  },
  {
   "cell_type": "code",
   "execution_count": 9,
   "metadata": {},
   "outputs": [
    {
     "name": "stdout",
     "output_type": "stream",
     "text": [
      "False\n",
      "True\n",
      "True\n",
      "False\n",
      "False\n",
      "True\n"
     ]
    }
   ],
   "source": [
    "# 3. Numerical Tests\n",
    "num_1: int = 5\n",
    "num_2: int = 7\n",
    "print(num_1 == num_2)\n",
    "print(num_1 != num_2)\n",
    "print(num_1 < num_2)\n",
    "print(num_1 > num_2)\n",
    "print(num_1 >= num_2)\n",
    "print(num_1 <= num_2)"
   ]
  },
  {
   "cell_type": "code",
   "execution_count": 12,
   "metadata": {},
   "outputs": [
    {
     "name": "stdout",
     "output_type": "stream",
     "text": [
      "First condition is 'False'\n",
      "Second condition is 'True'\n"
     ]
    }
   ],
   "source": [
    "# 4. Tests 'and' and 'or' keywords\n",
    "\n",
    "my_fav_num: int = 7\n",
    "friend_fav_num : int = 5\n",
    "\n",
    "if (my_fav_num > 10) and (friend_fav_num < 6):\n",
    "    print(\"First condition is 'True'\")\n",
    "else:\n",
    "    print(\"First condition is 'False'\")\n",
    "\n",
    "if (my_fav_num < 10) or (friend_fav_num > 2):\n",
    "    print(\"Second condition is 'True'\")"
   ]
  },
  {
   "cell_type": "code",
   "execution_count": 17,
   "metadata": {},
   "outputs": [
    {
     "data": {
      "text/plain": [
       "False"
      ]
     },
     "execution_count": 17,
     "metadata": {},
     "output_type": "execute_result"
    }
   ],
   "source": [
    "# 5. Finding values in list with 'in' keyword \n",
    "# Finding non-existing item in list (False Condition):\n",
    "guests: list[str] = [\"Sir Zia\", \"Sir Qasim\", \"Sir Eric\"]\n",
    "new_guest: str = \"Sir Junaid\"\n",
    "new_guest in guests"
   ]
  },
  {
   "cell_type": "code",
   "execution_count": 21,
   "metadata": {},
   "outputs": [
    {
     "data": {
      "text/plain": [
       "True"
      ]
     },
     "execution_count": 21,
     "metadata": {},
     "output_type": "execute_result"
    }
   ],
   "source": [
    "# Finding existing item in list (True Condition)\n",
    "existing_guest: str = \"Sir Qasim\"\n",
    "existing_guest in guests"
   ]
  },
  {
   "cell_type": "code",
   "execution_count": 22,
   "metadata": {},
   "outputs": [
    {
     "name": "stdout",
     "output_type": "stream",
     "text": [
      "My class mate is my friend\n"
     ]
    }
   ],
   "source": [
    "# 6. Finding values in list with 'not' keyword \n",
    "# Finding non-existing item in list (False Condition)\n",
    "class_mates: list[str] = [\"Aziz\", \"Rehman\", \"Qadir\"]\n",
    "friend: str = \"Ali\"\n",
    "\n",
    "if friend not in class_mates:\n",
    "    print(\"My friend is not my class mate. So condition is 'False'\")"
   ]
  },
  {
   "cell_type": "code",
   "execution_count": 25,
   "metadata": {},
   "outputs": [
    {
     "name": "stdout",
     "output_type": "stream",
     "text": [
      "My friend is my class mate\n"
     ]
    }
   ],
   "source": [
    "# Finding existing item in list (True Condition)\n",
    "friend: str = \"Aziz\"\n",
    "if friend not in class_mates:\n",
    "    print(\"True condition\")\n",
    "\n",
    "print(\"My friend is my class mate\")"
   ]
  }
 ],
 "metadata": {
  "kernelspec": {
   "display_name": "py12",
   "language": "python",
   "name": "python3"
  },
  "language_info": {
   "codemirror_mode": {
    "name": "ipython",
    "version": 3
   },
   "file_extension": ".py",
   "mimetype": "text/x-python",
   "name": "python",
   "nbconvert_exporter": "python",
   "pygments_lexer": "ipython3",
   "version": "3.12.0"
  }
 },
 "nbformat": 4,
 "nbformat_minor": 2
}
