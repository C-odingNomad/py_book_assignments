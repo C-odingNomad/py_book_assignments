{
 "cells": [
  {
   "cell_type": "markdown",
   "metadata": {},
   "source": [
    "### Checking Usernames: \n",
    "Do the following to create a program that simulates how websites ensure that everyone has a unique username:\n",
    "- Make a list of five or more usernames called current_users.\n",
    "- Make another list of five usernames called new_users. Make sure one or two of the new usernames are also in the current_users list.\n",
    "- Loop through the new_users list to see if each new username has already been used. If it has, print a message that the person will need to enter a new username. If a username has not been used, print a message saying that the username is available.\n",
    "- Make sure your comparison is case insensitive. If 'John' has been used, 'JOHN' should not be accepted. (To do this, you’ll need to make a copy of current_users containing the lowercase versions of all existing users.)"
   ]
  },
  {
   "cell_type": "code",
   "execution_count": 8,
   "metadata": {},
   "outputs": [
    {
     "name": "stdout",
     "output_type": "stream",
     "text": [
      "Ali is already taken. You will need to enter a new username.\n",
      "owais is already taken. You will need to enter a new username.\n",
      "The username mike is available\n",
      "The username jawed is available\n",
      "The username shafi is available\n"
     ]
    }
   ],
   "source": [
    "current_users: list[str] = [\"Ali\", \"Owais\", \"EBAD\", \"RehmaN\", \"Ibrahim\"]\n",
    "new_users: list[str] = [\"Ali\", \"owais\", \"mike\", \"jawed\", \"shafi\"]\n",
    "current_users_lower: list[str] = [user.lower() for user in current_users]\n",
    "\n",
    "for username in new_users:\n",
    "    if username.lower() in current_users_lower:\n",
    "        print(f\"{username} is already taken. You will need to enter a new username.\")\n",
    "    else:\n",
    "        print(f\"The username {username} is available\")\n"
   ]
  }
 ],
 "metadata": {
  "kernelspec": {
   "display_name": "py12",
   "language": "python",
   "name": "python3"
  },
  "language_info": {
   "codemirror_mode": {
    "name": "ipython",
    "version": 3
   },
   "file_extension": ".py",
   "mimetype": "text/x-python",
   "name": "python",
   "nbconvert_exporter": "python",
   "pygments_lexer": "ipython3",
   "version": "3.12.0"
  }
 },
 "nbformat": 4,
 "nbformat_minor": 2
}
