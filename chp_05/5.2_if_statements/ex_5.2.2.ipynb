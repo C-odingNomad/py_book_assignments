{
 "cells": [
  {
   "cell_type": "markdown",
   "metadata": {},
   "source": [
    "### Alien Colors #2: \n",
    "Choose a color for an alien as you did in Exercise 5.2.1, and write an if-else chain:\n",
    "- If the alien’s color is green, print a statement that the player just earned 5 points for shooting the alien.\n",
    "- If the alien’s color isn’t green, print a statement that the player just earned \n",
    "10 points.\n",
    "- Write one version of this program that runs the if block and another that \n",
    "runs the else block."
   ]
  },
  {
   "cell_type": "code",
   "execution_count": 5,
   "metadata": {},
   "outputs": [
    {
     "name": "stdout",
     "output_type": "stream",
     "text": [
      "Wow, you've just earned 5 points!\n"
     ]
    }
   ],
   "source": [
    "# This program will print the message of \"if\" block\n",
    "alien_color: str = \"green\"\n",
    "if alien_color == \"green\":\n",
    "    print(\"Wow, you've just earned 5 points!\")\n",
    "else:\n",
    "    print(\"The player just earned 10 points!\")"
   ]
  },
  {
   "cell_type": "code",
   "execution_count": 4,
   "metadata": {},
   "outputs": [
    {
     "name": "stdout",
     "output_type": "stream",
     "text": [
      "The player just earned 10 points!\n"
     ]
    }
   ],
   "source": [
    "# This program will print the message of \"else\" block\n",
    "alien_color: str = \"yellow\"\n",
    "if alien_color == \"green\":\n",
    "    print(\"Wow, you've just earned 5 points!\")\n",
    "else:\n",
    "    print(\"The player just earned 10 points!\")"
   ]
  }
 ],
 "metadata": {
  "kernelspec": {
   "display_name": "py12",
   "language": "python",
   "name": "python3"
  },
  "language_info": {
   "codemirror_mode": {
    "name": "ipython",
    "version": 3
   },
   "file_extension": ".py",
   "mimetype": "text/x-python",
   "name": "python",
   "nbconvert_exporter": "python",
   "pygments_lexer": "ipython3",
   "version": "3.12.0"
  }
 },
 "nbformat": 4,
 "nbformat_minor": 2
}
