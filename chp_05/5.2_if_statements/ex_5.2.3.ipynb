{
 "cells": [
  {
   "cell_type": "markdown",
   "metadata": {},
   "source": [
    "### Alien Colors #3: \n",
    "Turn your if-else chain from Exercise 5.2.2, into an if-elif-else chain.\n",
    "- If the alien is green, print a message that the player earned 5 points.\n",
    "- If the alien is yellow, print a message that the player earned 10 points.\n",
    "- If the alien is red, print a message that the player earned 15 points.\n",
    "- Write three versions of this program, making sure each message is printed \n",
    "for the appropriate color alien."
   ]
  },
  {
   "cell_type": "code",
   "execution_count": 7,
   "metadata": {},
   "outputs": [
    {
     "name": "stdout",
     "output_type": "stream",
     "text": [
      "The player earned 5 points!\n"
     ]
    }
   ],
   "source": [
    "# This program will print the message of \"if\" block\n",
    "alien_color: str = \"green\"\n",
    "\n",
    "if alien_color == \"green\":\n",
    "    print(\"The player earned 5 points!\")\n",
    "elif alien_color == \"yellow\":\n",
    "    print(\"The player earned 10 points!\")\n",
    "elif alien_color == \"red\":\n",
    "    print(\"The player earned 15 points!\")\n",
    "else:\n",
    "    print(\"The player didn't shoot any alien.\")"
   ]
  },
  {
   "cell_type": "code",
   "execution_count": 8,
   "metadata": {},
   "outputs": [
    {
     "name": "stdout",
     "output_type": "stream",
     "text": [
      "The player earned 10 points!\n"
     ]
    }
   ],
   "source": [
    "# This program will print the message of \"elif\" block\n",
    "alien_color: str = \"yellow\"\n",
    "if alien_color == \"green\":\n",
    "    print(\"Wow, you've just earned 5 points!\")\n",
    "elif alien_color == \"yellow\":\n",
    "    print(\"The player earned 10 points!\")\n",
    "elif alien_color == \"red\":\n",
    "    print(\"The player earned 15 points!\")\n",
    "else:\n",
    "    print(\"The player didn't shoot any alien.\")"
   ]
  },
  {
   "cell_type": "code",
   "execution_count": 9,
   "metadata": {},
   "outputs": [
    {
     "name": "stdout",
     "output_type": "stream",
     "text": [
      "The player earned 15 points!\n"
     ]
    }
   ],
   "source": [
    "# This program will print the message of \"else\" block\n",
    "alien_color: str = \"red\"\n",
    "if alien_color == \"green\":\n",
    "    print(\"Wow, you've just earned 5 points!\")\n",
    "elif alien_color == \"yellow\":\n",
    "    print(\"The player earned 10 points!\")\n",
    "elif alien_color == \"red\":\n",
    "    print(\"The player earned 15 points!\")\n",
    "else:\n",
    "    print(\"The player didn't shoot any alien.\")"
   ]
  }
 ],
 "metadata": {
  "kernelspec": {
   "display_name": "py12",
   "language": "python",
   "name": "python3"
  },
  "language_info": {
   "codemirror_mode": {
    "name": "ipython",
    "version": 3
   },
   "file_extension": ".py",
   "mimetype": "text/x-python",
   "name": "python",
   "nbconvert_exporter": "python",
   "pygments_lexer": "ipython3",
   "version": "3.12.0"
  }
 },
 "nbformat": 4,
 "nbformat_minor": 2
}
