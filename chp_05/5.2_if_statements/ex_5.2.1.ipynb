{
 "cells": [
  {
   "cell_type": "markdown",
   "metadata": {},
   "source": [
    "### Alien Colors #1: \n",
    "Imagine an alien was just shot down in a game. Create a variable called alien_color and assign it a value of 'green', 'yellow', or 'red'.\n",
    "- Write an if statement to test whether the alien’s color is green. If it is, print \n",
    "a message that the player just earned 5 points.\n",
    "- Write one version of this program that passes the if test and another that \n",
    "fails. (The version that fails will have no output)"
   ]
  },
  {
   "cell_type": "code",
   "execution_count": 3,
   "metadata": {},
   "outputs": [],
   "source": [
    "# This program will fail the test, that's why it won't generate any output\n",
    "alien_color: str = \"yellow\"\n",
    "if alien_color == \"green\":\n",
    "    print(\"Wow, you've just earned 5 points!\")    "
   ]
  },
  {
   "cell_type": "code",
   "execution_count": 2,
   "metadata": {},
   "outputs": [
    {
     "name": "stdout",
     "output_type": "stream",
     "text": [
      "Wow, you've just earned 5 points!\n"
     ]
    }
   ],
   "source": [
    "# This program will pass the test\n",
    "alien_color: str = \"green\"\n",
    "if alien_color == \"green\":\n",
    "    print(\"Wow, you've just earned 5 points!\")"
   ]
  }
 ],
 "metadata": {
  "kernelspec": {
   "display_name": "py12",
   "language": "python",
   "name": "python3"
  },
  "language_info": {
   "codemirror_mode": {
    "name": "ipython",
    "version": 3
   },
   "file_extension": ".py",
   "mimetype": "text/x-python",
   "name": "python",
   "nbconvert_exporter": "python",
   "pygments_lexer": "ipython3",
   "version": "3.12.0"
  }
 },
 "nbformat": 4,
 "nbformat_minor": 2
}
