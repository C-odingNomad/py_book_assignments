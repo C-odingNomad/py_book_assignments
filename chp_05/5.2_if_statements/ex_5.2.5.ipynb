{
 "cells": [
  {
   "cell_type": "markdown",
   "metadata": {},
   "source": [
    "### Favorite Fruit: \n",
    "Make a list of your favorite fruits, and then write a series of independent if statements that check for certain fruits in your list:\n",
    "- Make a list of your three favorite fruits and call it favorite_fruits.\n",
    "- Write five if statements. Each should check whether a certain kind of fruit is in your list. If the fruit is in your list, the if block should print a statement, such as \"You really like bananas!\""
   ]
  },
  {
   "cell_type": "code",
   "execution_count": 4,
   "metadata": {},
   "outputs": [
    {
     "name": "stdout",
     "output_type": "stream",
     "text": [
      "You really like Oranges!\n",
      "You really like Mangoes!\n",
      "You really like Bananas!\n"
     ]
    }
   ],
   "source": [
    "favorite_fruits: list[str] = [\"mango\", \"orange\", \"banana\"]\n",
    "if \"orange\" in favorite_fruits:\n",
    "    print(\"You really like Oranges!\")\n",
    "if \"mango\" in favorite_fruits:\n",
    "    print(\"You really like Mangoes!\")\n",
    "if \"banana\" in favorite_fruits:\n",
    "    print(\"You really like Bananas!\")\n",
    "if \"Peach\" in favorite_fruits:\n",
    "    print(\"You really like Peach!\")\n",
    "if \"cherry\" in favorite_fruits:\n",
    "    print(\"You really like cherry!\")"
   ]
  }
 ],
 "metadata": {
  "kernelspec": {
   "display_name": "py12",
   "language": "python",
   "name": "python3"
  },
  "language_info": {
   "codemirror_mode": {
    "name": "ipython",
    "version": 3
   },
   "file_extension": ".py",
   "mimetype": "text/x-python",
   "name": "python",
   "nbconvert_exporter": "python",
   "pygments_lexer": "ipython3",
   "version": "3.12.0"
  }
 },
 "nbformat": 4,
 "nbformat_minor": 2
}
