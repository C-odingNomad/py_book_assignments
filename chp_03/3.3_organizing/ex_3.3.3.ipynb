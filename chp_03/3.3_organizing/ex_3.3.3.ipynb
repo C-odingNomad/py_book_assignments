{
 "cells": [
  {
   "cell_type": "markdown",
   "metadata": {},
   "source": [
    "### Every Function: \n",
    "Think of things you could store in a list. For example, you \n",
    "could make a list of mountains, rivers, countries, cities, languages, or anything \n",
    "else you’d like. Write a program that creates a list containing these items and \n",
    "then uses each function introduced in this chapter at least once.\n"
   ]
  },
  {
   "cell_type": "code",
   "execution_count": 25,
   "metadata": {},
   "outputs": [
    {
     "name": "stdout",
     "output_type": "stream",
     "text": [
      "[]\n",
      "My favorite foods are in sorted order: ['biryani', 'dahi barhe', 'pizza', 'pulao']\n",
      "My favorite foods in reverse sorted: ['pulao', 'pizza', 'dahi barhe', 'biryani']\n",
      "\n",
      "Original order of list: ['pizza', 'biryani', 'pulao', 'dahi barhe']\n",
      "\n",
      "Sorted Foods list permanently: ['biryani', 'dahi barhe', 'pizza', 'pulao']\n",
      "Reversed Sorted Foods list permanently: ['pulao', 'pizza', 'dahi barhe', 'biryani']\n",
      "Reversed Foods list permanently: ['biryani', 'dahi barhe', 'pizza', 'pulao']\n",
      "\n",
      "List after 3 pop(): ['biryani']\n",
      "\n",
      "List after 'del': []\n"
     ]
    }
   ],
   "source": [
    "# Creating a list containing my favorite foods\n",
    "fav_foods : list[str] = []\n",
    "\n",
    "# Printing empty list\n",
    "print(fav_foods)\n",
    "\n",
    "# Applying all functions covered in chapter 3\n",
    "fav_foods.append(\"biryani\")\n",
    "fav_foods.append(\"dahi barhe\")\n",
    "fav_foods.insert(1, \"pulao\")\n",
    "fav_foods.insert(0, \"pizza\")\n",
    "sorted_fav_foods = sorted(fav_foods)\n",
    "print(f\"My favorite foods are in sorted order: {sorted_fav_foods}\")\n",
    "reverse_sorted_fav_foods = sorted(fav_foods, reverse=True)\n",
    "print(f\"My favorite foods in reverse sorted: {reverse_sorted_fav_foods}\")\n",
    "\n",
    "print(f\"\\nOriginal order of list: {fav_foods}\")\n",
    "\n",
    "fav_foods.sort()\n",
    "print(f\"\\nSorted Foods list permanently: {fav_foods}\")\n",
    "\n",
    "fav_foods.sort(reverse=True)\n",
    "print(f\"Reversed Sorted Foods list permanently: {fav_foods}\")\n",
    "\n",
    "fav_foods.reverse()\n",
    "print(f\"Reversed Foods list permanently: {fav_foods}\")\n",
    "\n",
    "fav_foods.pop()\n",
    "fav_foods.pop()\n",
    "fav_foods.pop()\n",
    "print(f\"\\nList after 3 pop(): {fav_foods}\")\n",
    "\n",
    "del fav_foods[0]\n",
    "print(f\"\\nList after 'del': {fav_foods}\")"
   ]
  }
 ],
 "metadata": {
  "kernelspec": {
   "display_name": "py12",
   "language": "python",
   "name": "python3"
  },
  "language_info": {
   "codemirror_mode": {
    "name": "ipython",
    "version": 3
   },
   "file_extension": ".py",
   "mimetype": "text/x-python",
   "name": "python",
   "nbconvert_exporter": "python",
   "pygments_lexer": "ipython3",
   "version": "3.12.0"
  }
 },
 "nbformat": 4,
 "nbformat_minor": 2
}
