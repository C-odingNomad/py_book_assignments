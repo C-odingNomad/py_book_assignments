{
 "cells": [
  {
   "cell_type": "markdown",
   "metadata": {},
   "source": [
    "### Seeing the World: \n",
    "Think of at least five places in the world you’d like \n",
    "to visit.\n",
    "- Store the locations in a list. Make sure the list is not in alphabetical order.\n",
    "- Print your list in its original order. Don’t worry about printing the list neatly; \n",
    "just print it as a raw Python list.\n",
    "- Use sorted() to print your list in alphabetical order without modifying the \n",
    "actual list.\n",
    "- Show that your list is still in its original order by printing it.\n",
    "- Use sorted() to print your list in reverse-alphabetical order without chang\u0002ing the order of the original list.\n",
    "- Show that your list is still in its original order by printing it again.\n",
    "- Use reverse() to change the order of your list. Print the list to show that its \n",
    "order has changed.\n",
    "- Use reverse() to change the order of your list again. Print the list to show \n",
    "it’s back to its original order.\n",
    "- Use sort() to change your list so it’s stored in alphabetical order. Print the \n",
    "list to show that its order has been changed.\n",
    "- Use sort() to change your list so it’s stored in reverse-alphabetical order. \n",
    "Print the list to show that its order has changed."
   ]
  },
  {
   "cell_type": "code",
   "execution_count": null,
   "metadata": {},
   "outputs": [],
   "source": [
    "fav_places : list[str] = [\"\"]\n",
    "\n",
    "\n"
   ]
  }
 ],
 "metadata": {
  "language_info": {
   "name": "python"
  }
 },
 "nbformat": 4,
 "nbformat_minor": 2
}
