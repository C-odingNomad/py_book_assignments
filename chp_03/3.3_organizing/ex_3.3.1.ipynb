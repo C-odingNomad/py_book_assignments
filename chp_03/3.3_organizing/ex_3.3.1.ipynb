{
 "cells": [
  {
   "cell_type": "markdown",
   "metadata": {},
   "source": [
    "### Seeing the World: \n",
    "Think of at least five places in the world you’d like \n",
    "to visit.\n",
    "1. Store the locations in a list. Make sure the list is not in alphabetical order.\n",
    "2. Print your list in its original order. Don’t worry about printing the list neatly; \n",
    "just print it as a raw Python list.\n",
    "3. Use sorted() to print your list in alphabetical order without modifying the \n",
    "actual list.\n",
    "4. Show that your list is still in its original order by printing it.\n",
    "5. Use sorted() to print your list in reverse-alphabetical order without changing the order of the original list.\n",
    "6. Show that your list is still in its original order by printing it again.\n",
    "7. Use reverse() to change the order of your list. Print the list to show that its \n",
    "order has changed.\n",
    "8. Use reverse() to change the order of your list again. Print the list to show \n",
    "it’s back to its original order.\n",
    "9. Use sort() to change your list so it’s stored in alphabetical order. Print the \n",
    "list to show that its order has been changed.\n",
    "10. Use sort() to change your list so it’s stored in reverse-alphabetical order. \n",
    "Print the list to show that its order has changed."
   ]
  },
  {
   "cell_type": "code",
   "execution_count": 30,
   "metadata": {},
   "outputs": [
    {
     "name": "stdout",
     "output_type": "stream",
     "text": [
      "Origianl List: ['mazar-e-quaid', 'frere hall', 'badshahi mosque', 'eiffel tower', 'lahore fort']\n",
      "Sorted List:\n",
      " ['badshahi mosque', 'eiffel tower', 'frere hall', 'lahore fort', 'mazar-e-quaid']\n",
      "\n",
      "Original List: ['mazar-e-quaid', 'frere hall', 'badshahi mosque', 'eiffel tower', 'lahore fort']\n",
      "Sorted Reverse List :\n",
      " ['mazar-e-quaid', 'lahore fort', 'frere hall', 'eiffel tower', 'badshahi mosque']\n",
      "\n",
      "Original List: ['mazar-e-quaid', 'frere hall', 'badshahi mosque', 'eiffel tower', 'lahore fort']\n",
      "\n",
      "Order of the list is changed: ['lahore fort', 'eiffel tower', 'badshahi mosque', 'frere hall', 'mazar-e-quaid']\n",
      "\n",
      "Order of list is back: ['mazar-e-quaid', 'frere hall', 'badshahi mosque', 'eiffel tower', 'lahore fort']\n",
      "\n",
      "List has been sorted: ['badshahi mosque', 'eiffel tower', 'frere hall', 'lahore fort', 'mazar-e-quaid']\n",
      "\n",
      "List has been reversed: ['mazar-e-quaid', 'lahore fort', 'frere hall', 'eiffel tower', 'badshahi mosque']\n"
     ]
    }
   ],
   "source": [
    "fav_places : list[str] = [\"mazar-e-quaid\", \"frere hall\", \"badshahi mosque\", \"eiffel tower\", \"lahore fort\"]\n",
    "\n",
    "# Original list BEFORE sorted() function\n",
    "print(f\"Origianl List: {fav_places}\")\n",
    "\n",
    "# Sorted List\n",
    "print(f\"Sorted List:\\n {sorted(fav_places)}\")\n",
    "\n",
    "# Original list AFTER sorted() function\n",
    "print(f\"\\nOriginal List: {fav_places}\")\n",
    "\n",
    "# Sorted list in reverse-alphabetical order\n",
    "print(f\"Sorted Reverse List :\\n {sorted(fav_places, reverse=True)}\")\n",
    "\n",
    "# Showing the order of original list\n",
    "print(f\"\\nOriginal List: {fav_places}\")\n",
    "\n",
    "# Changing list order with reverse()\n",
    "fav_places.reverse()\n",
    "print(f\"\\nOrder of the list is changed: {fav_places}\")\n",
    "\n",
    "# Changing the order again\n",
    "fav_places.reverse()\n",
    "print(f\"\\nOrder of list is back: {fav_places}\")\n",
    "\n",
    "# Sorting the list permanently\n",
    "fav_places.sort()\n",
    "print(f\"\\nList has been sorted: {fav_places}\")\n",
    "\n",
    "# Storing list in reverse-alphabetical order\n",
    "fav_places.sort(reverse=True)\n",
    "print(f\"\\nList has been reversed: {fav_places}\")\n",
    "\n"
   ]
  }
 ],
 "metadata": {
  "kernelspec": {
   "display_name": "py12",
   "language": "python",
   "name": "python3"
  },
  "language_info": {
   "codemirror_mode": {
    "name": "ipython",
    "version": 3
   },
   "file_extension": ".py",
   "mimetype": "text/x-python",
   "name": "python",
   "nbconvert_exporter": "python",
   "pygments_lexer": "ipython3",
   "version": "3.12.0"
  }
 },
 "nbformat": 4,
 "nbformat_minor": 2
}
