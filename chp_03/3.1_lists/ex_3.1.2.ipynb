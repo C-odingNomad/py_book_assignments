{
 "cells": [
  {
   "cell_type": "markdown",
   "metadata": {},
   "source": [
    "### Greetings: \n",
    "Start with the list you used in Exercise 3.1.1, but instead of just \n",
    "printing each person’s name, print a message to them. The text of each message should be the same, but each message should be personalized with the \n",
    "person’s name."
   ]
  },
  {
   "cell_type": "code",
   "execution_count": 1,
   "metadata": {},
   "outputs": [
    {
     "name": "stdout",
     "output_type": "stream",
     "text": [
      "Hi Ebad, Good Morning!\n",
      "Hi Ali, Good Morning!\n",
      "Hi Owais, Good Morning!\n",
      "Hi Aman, Good Morning!\n",
      "Hi Farooq, Good Morning!\n"
     ]
    }
   ],
   "source": [
    "names : list[str] = [\"Ebad\", \"Ali\", \"Owais\", \"Aman\", \"Farooq\"]\n",
    "print(f\"Hi {names[0]}, Good Morning!\")\n",
    "print(f\"Hi {names[1]}, Good Morning!\")\n",
    "print(f\"Hi {names[2]}, Good Morning!\")\n",
    "print(f\"Hi {names[3]}, Good Morning!\")\n",
    "print(f\"Hi {names[4]}, Good Morning!\")\n",
    "\n"
   ]
  }
 ],
 "metadata": {
  "kernelspec": {
   "display_name": "py12",
   "language": "python",
   "name": "python3"
  },
  "language_info": {
   "codemirror_mode": {
    "name": "ipython",
    "version": 3
   },
   "file_extension": ".py",
   "mimetype": "text/x-python",
   "name": "python",
   "nbconvert_exporter": "python",
   "pygments_lexer": "ipython3",
   "version": "3.12.0"
  }
 },
 "nbformat": 4,
 "nbformat_minor": 2
}
