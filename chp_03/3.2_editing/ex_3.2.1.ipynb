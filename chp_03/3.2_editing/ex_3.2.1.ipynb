{
 "cells": [
  {
   "cell_type": "markdown",
   "metadata": {},
   "source": [
    "### Guest List:\n",
    "If you could invite anyone, living or deceased, to dinner, who \n",
    "would you invite? Make a list that includes at least three people you’d like to \n",
    "invite to dinner. Then use your list to print a message to each person, inviting \n",
    "them to dinner."
   ]
  },
  {
   "cell_type": "code",
   "execution_count": 1,
   "metadata": {},
   "outputs": [
    {
     "name": "stdout",
     "output_type": "stream",
     "text": [
      "Hi Sir Ameen, I'd like to like invite you to the dinner tonight.\n",
      "Hi Sir Qasim, I'd like to like invite you to the dinner tonight.\n",
      "Hi Sir Zia, I'd like to like invite you to the dinner tonight.\n"
     ]
    }
   ],
   "source": [
    "guests : list[str] = [\"Ameen\", \"Qasim\", \"Zia\"]\n",
    "print(f\"Hi Sir {guests[0]}, I'd like to like invite you to the dinner tonight.\")\n",
    "print(f\"Hi Sir {guests[1]}, I'd like to like invite you to the dinner tonight.\")\n",
    "print(f\"Hi Sir {guests[2]}, I'd like to like invite you to the dinner tonight.\")"
   ]
  }
 ],
 "metadata": {
  "kernelspec": {
   "display_name": "py12",
   "language": "python",
   "name": "python3"
  },
  "language_info": {
   "codemirror_mode": {
    "name": "ipython",
    "version": 3
   },
   "file_extension": ".py",
   "mimetype": "text/x-python",
   "name": "python",
   "nbconvert_exporter": "python",
   "pygments_lexer": "ipython3",
   "version": "3.12.0"
  }
 },
 "nbformat": 4,
 "nbformat_minor": 2
}
