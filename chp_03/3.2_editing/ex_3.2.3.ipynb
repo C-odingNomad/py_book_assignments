{
 "cells": [
  {
   "cell_type": "markdown",
   "metadata": {},
   "source": [
    "### More Guests: \n",
    "You just found a bigger dinner table, so now more space is \n",
    "available. Think of three more guests to invite to dinner.\n",
    "- Start with your program from Exercise 3.2.2. Add a print() call to the \n",
    "end of your program, informing people that you found a bigger table.\n",
    "- Use insert() to add one new guest to the beginning of your list.\n",
    "- Use insert() to add one new guest to the middle of your list.\n",
    "- Use append() to add one new guest to the end of your list.\n",
    "- Print a new set of invitation messages, one for each person in your list."
   ]
  },
  {
   "cell_type": "code",
   "execution_count": 6,
   "metadata": {},
   "outputs": [
    {
     "name": "stdout",
     "output_type": "stream",
     "text": [
      "Hi Sir Ameen, I'd like to invite you to the dinner tonight.\n",
      "Hi Sir Qasim, I'd like to invite you to the dinner tonight.\n",
      "Hi Sir Zia, I'd like to invite you to the dinner tonight.\n",
      "Hi Sir Qasim, Sir Ameen just informed that he could not come to the dinner tonight.\n",
      "Hi Sir Zia, Sir Ameen just informed that he could not come to the dinner tonight.\n",
      "Hi Sir Junaid, I'd like to invite you to the dinner tonight at my home.\n",
      "Hi Sir Qasim, I'd like to invite you to the dinner tonight at my home.\n",
      "Hi Sir Zia, I'd like to invite you to the dinner tonight at my home.\n",
      "Hi Sir Junaid, Congrats! I found a bigger table. Now I can invite more people to the dinner.\n",
      "Hi Sir Qasim, Congrats! I found a bigger table. Now I can invite more people to the dinner.\n",
      "Hi Sir Zia, Congrats! I found a bigger table. Now I can invite more people to the dinner.\n",
      "Hi Sir Anjum, I just found a bigger table now you can too join us in the dinner tonight.\n",
      "Hi Sir Junaid, I just found a bigger table now you can too join us in the dinner tonight.\n",
      "Hi Sir Zeeshan, I just found a bigger table now you can too join us in the dinner tonight.\n",
      "Hi Sir Qasim, I just found a bigger table now you can too join us in the dinner tonight.\n",
      "Hi Sir Zia, I just found a bigger table now you can too join us in the dinner tonight.\n",
      "Hi Sir Irfan, I just found a bigger table now you can too join us in the dinner tonight.\n"
     ]
    }
   ],
   "source": [
    "# Starting from previous program:\n",
    "guests : list[str] = [\"Ameen\", \"Qasim\", \"Zia\"]\n",
    "\n",
    "print(f\"Hi Sir {guests[0]}, I'd like to invite you to the dinner tonight.\")\n",
    "print(f\"Hi Sir {guests[1]}, I'd like to invite you to the dinner tonight.\")\n",
    "print(f\"Hi Sir {guests[2]}, I'd like to invite you to the dinner tonight.\")\n",
    "\n",
    "print(f\"Hi Sir {guests[1]}, Sir {guests[0]} just informed me that he could not come to the dinner tonight.\")\n",
    "print(f\"Hi Sir {guests[2]}, Sir {guests[0]} just informed me that he could not come to the dinner tonight.\")\n",
    "\n",
    "guests[0] = \"Junaid\"\n",
    "\n",
    "print(f\"Hi Sir {guests[0]}, I'd like to invite you to the dinner tonight at my home.\")\n",
    "print(f\"Hi Sir {guests[1]}, I'd like to invite you to the dinner tonight at my home.\")\n",
    "print(f\"Hi Sir {guests[2]}, I'd like to invite you to the dinner tonight at my home.\")\n",
    "\n",
    "# Informing my guests about bigget table\n",
    "print(f\"Hi Sir {guests[0]}, Congrats! I found a bigger table. Now I can invite more people to the dinner.\")\n",
    "print(f\"Hi Sir {guests[1]}, Congrats! I found a bigger table. Now I can invite more people to the dinner.\")\n",
    "print(f\"Hi Sir {guests[2]}, Congrats! I found a bigger table. Now I can invite more people to the dinner.\")\n",
    "\n",
    "# Adding 3 new guests\n",
    "guests.insert(0, \"Anjum\")\n",
    "guests.insert(2, \"Zeeshan\")\n",
    "guests.append(\"Irfan\")\n",
    "\n",
    "# Printing a new set of invitations with more 3 more guests\n",
    "print(f\"Hi Sir {guests[0]}, I just found a bigger table now you can too join us in the dinner tonight.\")\n",
    "print(f\"Hi Sir {guests[1]}, I just found a bigger table now you can too join us in the dinner tonight.\")\n",
    "print(f\"Hi Sir {guests[2]}, I just found a bigger table now you can too join us in the dinner tonight.\")\n",
    "print(f\"Hi Sir {guests[3]}, I just found a bigger table now you can too join us in the dinner tonight.\")\n",
    "print(f\"Hi Sir {guests[4]}, I just found a bigger table now you can too join us in the dinner tonight.\")\n",
    "print(f\"Hi Sir {guests[5]}, I just found a bigger table now you can too join us in the dinner tonight.\")"
   ]
  }
 ],
 "metadata": {
  "kernelspec": {
   "display_name": "py12",
   "language": "python",
   "name": "python3"
  },
  "language_info": {
   "codemirror_mode": {
    "name": "ipython",
    "version": 3
   },
   "file_extension": ".py",
   "mimetype": "text/x-python",
   "name": "python",
   "nbconvert_exporter": "python",
   "pygments_lexer": "ipython3",
   "version": "3.12.0"
  }
 },
 "nbformat": 4,
 "nbformat_minor": 2
}
