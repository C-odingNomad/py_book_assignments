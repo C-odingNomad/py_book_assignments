{
 "cells": [
  {
   "cell_type": "markdown",
   "metadata": {},
   "source": [
    "### Changing Guest List:\n",
    "You just heard that one of your guests can’t make the \n",
    "dinner, so you need to send out a new set of invitations. You’ll have to think of \n",
    "someone else to invite.\n",
    "- Start with your program from Exercise 3.2.1. Add a print() call at the end of \n",
    "your program, stating the name of the guest who can’t make it.\n",
    "- Modify your list, replacing the name of the guest who can’t make it with the \n",
    "name of the new person you are inviting.\n",
    "- Print a second set of invitation messages, one for each person who is still in \n",
    "your list."
   ]
  },
  {
   "cell_type": "code",
   "execution_count": 4,
   "metadata": {},
   "outputs": [
    {
     "name": "stdout",
     "output_type": "stream",
     "text": [
      "Hi Sir Qasim, Sir Ameen just informed that he could not come to the dinner tonight.\n",
      "Hi Sir Zia, Sir Ameen just informed that he could not come to the dinner tonight.\n",
      "Hi Sir Junaid, I'd like to invite you to the dinner tonight at my home.\n",
      "Hi Sir Qasim, I'd like to invite you to the dinner tonight at my home.\n",
      "Hi Sir Zia, I'd like to invite you to the dinner tonight at my home.\n"
     ]
    }
   ],
   "source": [
    "# Starting from previous program:\n",
    "guests : list[str] = [\"Ameen\", \"Qasim\", \"Zia\"]\n",
    "\n",
    "print(f\"Hi Sir {guests[0]}, I'd like to invite you to the dinner tonight.\")\n",
    "print(f\"Hi Sir {guests[1]}, I'd like to invite you to the dinner tonight.\")\n",
    "print(f\"Hi Sir {guests[2]}, I'd like to invite you to the dinner tonight.\")\n",
    "\n",
    "# Apologizing message:\n",
    "print(f\"Hi Sir {guests[1]}, Sir {guests[0]} just informed that he could not come to the dinner tonight.\")\n",
    "print(f\"Hi Sir {guests[2]}, Sir {guests[0]} just informed that he could not come to the dinner tonight.\")\n",
    "\n",
    "# Modying my list of guests:\n",
    "guests[0] = \"Junaid\"\n",
    "\n",
    "# Printing 2nd set of invititions:\n",
    "print(f\"Hi Sir {guests[0]}, I'd like to invite you to the dinner tonight at my home.\")\n",
    "print(f\"Hi Sir {guests[1]}, I'd like to invite you to the dinner tonight at my home.\")\n",
    "print(f\"Hi Sir {guests[2]}, I'd like to invite you to the dinner tonight at my home.\")\n",
    "\n"
   ]
  },
  {
   "cell_type": "code",
   "execution_count": null,
   "metadata": {},
   "outputs": [],
   "source": []
  }
 ],
 "metadata": {
  "kernelspec": {
   "display_name": "py12",
   "language": "python",
   "name": "python3"
  },
  "language_info": {
   "codemirror_mode": {
    "name": "ipython",
    "version": 3
   },
   "file_extension": ".py",
   "mimetype": "text/x-python",
   "name": "python",
   "nbconvert_exporter": "python",
   "pygments_lexer": "ipython3",
   "version": "3.12.0"
  }
 },
 "nbformat": 4,
 "nbformat_minor": 2
}
