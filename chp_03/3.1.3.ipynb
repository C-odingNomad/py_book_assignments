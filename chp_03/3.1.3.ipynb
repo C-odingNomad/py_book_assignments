{
 "cells": [
  {
   "cell_type": "markdown",
   "metadata": {},
   "source": [
    "### Your Own List: \n",
    "Think of your favorite mode of transportation, such as a motorcycle or a car, and make a list that stores several examples. Use your list to print a series of statements about these items, such as “I would like to own a Honda motorcycle.”"
   ]
  },
  {
   "cell_type": "code",
   "execution_count": 2,
   "metadata": {},
   "outputs": [
    {
     "name": "stdout",
     "output_type": "stream",
     "text": [
      "My favorite mode of transportation is Toyota Corolla Car.\n",
      "I have a Honda Motorcycle.\n",
      "I would like to own a Mehran Car.\n"
     ]
    }
   ],
   "source": [
    "fav_transport : list[str] = [\"Toyota Corolla Car\", \"Honda Motorcycle\", \"Mehran Car\"]\n",
    "print(f'My favorite mode of transportation is {fav_transport[0]}.')\n",
    "print(f'I have a {fav_transport[1]}.')\n",
    "print(f'I would like to own a {fav_transport[2]}.')"
   ]
  }
 ],
 "metadata": {
  "kernelspec": {
   "display_name": "py12",
   "language": "python",
   "name": "python3"
  },
  "language_info": {
   "codemirror_mode": {
    "name": "ipython",
    "version": 3
   },
   "file_extension": ".py",
   "mimetype": "text/x-python",
   "name": "python",
   "nbconvert_exporter": "python",
   "pygments_lexer": "ipython3",
   "version": "3.12.0"
  }
 },
 "nbformat": 4,
 "nbformat_minor": 2
}
