{
 "cells": [
  {
   "cell_type": "markdown",
   "metadata": {},
   "source": [
    "# File Extensions:\n",
    "Python has a 'removesuffix()' method that works exactly \n",
    "like 'removeprefix()'. Assign the value 'python_notes.txt' to a variable called \n",
    "\"filename\". Then use the 'removesuffix()' method to display the filename without \n",
    "the file extension, like some file browsers do.\n"
   ]
  },
  {
   "cell_type": "code",
   "execution_count": 2,
   "metadata": {},
   "outputs": [
    {
     "name": "stdout",
     "output_type": "stream",
     "text": [
      "python_notes.txt\n",
      "python_notes\n"
     ]
    }
   ],
   "source": [
    "filename : str = \"python_notes.txt\"\n",
    "print(filename)\n",
    "print(filename.removesuffix(\".txt\"))"
   ]
  }
 ],
 "metadata": {
  "kernelspec": {
   "display_name": "py12",
   "language": "python",
   "name": "python3"
  },
  "language_info": {
   "codemirror_mode": {
    "name": "ipython",
    "version": 3
   },
   "file_extension": ".py",
   "mimetype": "text/x-python",
   "name": "python",
   "nbconvert_exporter": "python",
   "pygments_lexer": "ipython3",
   "version": "3.12.0"
  }
 },
 "nbformat": 4,
 "nbformat_minor": 2
}
