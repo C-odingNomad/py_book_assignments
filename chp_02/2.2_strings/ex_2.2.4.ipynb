{
 "cells": [
  {
   "cell_type": "markdown",
   "metadata": {},
   "source": [
    "# Famous Quote 2: \n",
    "Repeat Exercise 2.2.3, but this time, represent the famous \n",
    "person’s name using a variable called 'famous_person'. Then compose your message and represent it with a new variable called 'message'."
   ]
  },
  {
   "cell_type": "code",
   "execution_count": 3,
   "metadata": {},
   "outputs": [
    {
     "name": "stdout",
     "output_type": "stream",
     "text": [
      "Abraham Lincoln once said, \"The best way to predict your future is to create it.\"\n"
     ]
    }
   ],
   "source": [
    "famous_person : str = \"Abraham Lincoln\"\n",
    "message : str = \"The best way to predict your future is to create it.\"\n",
    "\n",
    "print(f'{famous_person} once said, \"{message}\"')\n"
   ]
  }
 ],
 "metadata": {
  "kernelspec": {
   "display_name": "py12",
   "language": "python",
   "name": "python3"
  },
  "language_info": {
   "codemirror_mode": {
    "name": "ipython",
    "version": 3
   },
   "file_extension": ".py",
   "mimetype": "text/x-python",
   "name": "python",
   "nbconvert_exporter": "python",
   "pygments_lexer": "ipython3",
   "version": "3.12.0"
  }
 },
 "nbformat": 4,
 "nbformat_minor": 2
}
