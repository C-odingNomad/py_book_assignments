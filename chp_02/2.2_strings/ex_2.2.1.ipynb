{
 "cells": [
  {
   "cell_type": "markdown",
   "metadata": {},
   "source": [
    "### Personal Message: \n",
    "Use a variable to represent a person’s name, and print \n",
    "a message to that person. Your message should be simple, such as, “Hello Eric, \n",
    "would you like to learn some Python today?”\n"
   ]
  },
  {
   "cell_type": "code",
   "execution_count": 1,
   "metadata": {},
   "outputs": [
    {
     "name": "stdout",
     "output_type": "stream",
     "text": [
      "Hello, Fahad, would you like a cup of tea?\n"
     ]
    }
   ],
   "source": [
    "my_neighbour : str = \"Fahad\"\n",
    "message : str = f\"Hello, {my_neighbour}, would you like a cup of tea?\"\n",
    "print(message)"
   ]
  }
 ],
 "metadata": {
  "kernelspec": {
   "display_name": "py12",
   "language": "python",
   "name": "python3"
  },
  "language_info": {
   "codemirror_mode": {
    "name": "ipython",
    "version": 3
   },
   "file_extension": ".py",
   "mimetype": "text/x-python",
   "name": "python",
   "nbconvert_exporter": "python",
   "pygments_lexer": "ipython3",
   "version": "3.12.0"
  }
 },
 "nbformat": 4,
 "nbformat_minor": 2
}
