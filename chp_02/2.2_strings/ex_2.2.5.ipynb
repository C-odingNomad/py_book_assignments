{
 "cells": [
  {
   "cell_type": "markdown",
   "metadata": {},
   "source": [
    "### Stripping Names: \n",
    "Use a variable to represent a person’s name, and \n",
    "include some whitespace characters at the beginning and end of the name. \n",
    "Make sure you use each character combination, \"\\t\" and \"\\n\", at least once.\n",
    "Print the name once, so the whitespace around the name is displayed. \n",
    "Then print the name using each of the three stripping functions, lstrip(), \n",
    "rstrip(), and strip()."
   ]
  },
  {
   "cell_type": "code",
   "execution_count": 36,
   "metadata": {},
   "outputs": [
    {
     "name": "stdout",
     "output_type": "stream",
     "text": [
      "   \tOwais\n",
      "  Tahir   \n",
      "Owais\n",
      "  Tahir   \n",
      "   \tOwais\n",
      "  Tahir\n",
      "Owais\n",
      "  Tahir\n"
     ]
    }
   ],
   "source": [
    "old_friend : str = \"   \\tOwais\\n  Tahir   \"\n",
    "print(old_friend)\n",
    "print(old_friend.lstrip())\n",
    "print(old_friend.rstrip())\n",
    "print(old_friend.strip())"
   ]
  }
 ],
 "metadata": {
  "kernelspec": {
   "display_name": "py12",
   "language": "python",
   "name": "python3"
  },
  "language_info": {
   "codemirror_mode": {
    "name": "ipython",
    "version": 3
   },
   "file_extension": ".py",
   "mimetype": "text/x-python",
   "name": "python",
   "nbconvert_exporter": "python",
   "pygments_lexer": "ipython3",
   "version": "3.12.0"
  }
 },
 "nbformat": 4,
 "nbformat_minor": 2
}
