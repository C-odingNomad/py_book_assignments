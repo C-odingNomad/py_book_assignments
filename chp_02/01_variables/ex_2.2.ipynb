{
 "cells": [
  {
   "cell_type": "markdown",
   "metadata": {},
   "source": [
    "#  Simple Message 2: \n",
    "Assign a message to a variable, and print that message. \n",
    "Then change the value of the variable to a new message, and print the new \n",
    "message."
   ]
  },
  {
   "cell_type": "code",
   "execution_count": 1,
   "metadata": {},
   "outputs": [
    {
     "name": "stdout",
     "output_type": "stream",
     "text": [
      "Hi, I like ice cream.\n",
      "But, I love Chocolates.\n"
     ]
    }
   ],
   "source": [
    "imp_message : str = \"Hi, I like ice cream.\"\n",
    "print(imp_message)\n",
    "\n",
    "imp_message = \"But, I love Chocolates.\"\n",
    "print(imp_message)"
   ]
  }
 ],
 "metadata": {
  "kernelspec": {
   "display_name": "py12",
   "language": "python",
   "name": "python3"
  },
  "language_info": {
   "codemirror_mode": {
    "name": "ipython",
    "version": 3
   },
   "file_extension": ".py",
   "mimetype": "text/x-python",
   "name": "python",
   "nbconvert_exporter": "python",
   "pygments_lexer": "ipython3",
   "version": "3.12.0"
  }
 },
 "nbformat": 4,
 "nbformat_minor": 2
}
